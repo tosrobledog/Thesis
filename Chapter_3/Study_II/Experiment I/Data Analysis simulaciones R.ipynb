{
 "cells": [
  {
   "cell_type": "markdown",
   "metadata": {},
   "source": [
    "# Objetivo del análisis"
   ]
  },
  {
   "cell_type": "markdown",
   "metadata": {},
   "source": [
    "Evaluar si existe una relación entre los promotores y las ventas totales del WOM. Los promotores realmente influencia en WOM sales?"
   ]
  },
  {
   "cell_type": "markdown",
   "metadata": {},
   "source": [
    "# Descripción de los datos"
   ]
  },
  {
   "cell_type": "markdown",
   "metadata": {},
   "source": [
    "Los datos fueron tomados de las simulaciones. Las variables son: WOM_sales, WOM_promoters y num_promoters. Los datos almacenados en las variables fueron tick a tick"
   ]
  },
  {
   "cell_type": "markdown",
   "metadata": {},
   "source": [
    "# Creación del entorno"
   ]
  },
  {
   "cell_type": "markdown",
   "metadata": {},
   "source": [
    "## Cargando paquetes"
   ]
  },
  {
   "cell_type": "code",
   "execution_count": 1,
   "metadata": {
    "collapsed": false,
    "scrolled": true
   },
   "outputs": [
    {
     "ename": "ERROR",
     "evalue": "Error in library(\"plyr\", lib.loc = \"~/R/win-library/3.2\"): no library trees found in 'lib.loc'\n",
     "output_type": "error",
     "traceback": [
      "Error in library(\"plyr\", lib.loc = \"~/R/win-library/3.2\"): no library trees found in 'lib.loc'\nTraceback:\n",
      "1. library(\"plyr\", lib.loc = \"~/R/win-library/3.2\")",
      "2. stop(txt, domain = NA)"
     ]
    }
   ],
   "source": [
    "library(repr)\n",
    "library(\"plyr\", lib.loc=\"~/R/win-library/3.2\")\n",
    "library(\"pgirmess\", lib.loc=\"~/R/win-library/3.2\")"
   ]
  },
  {
   "cell_type": "code",
   "execution_count": 2,
   "metadata": {
    "collapsed": false,
    "scrolled": true
   },
   "outputs": [],
   "source": [
    "library(repr)\n",
    "library(\"plyr\", lib.loc=\"~/R/win-library/3.3\")\n",
    "# library(\"nparcomp\", lib.loc=\"~/R/win-library/3.3\")\n",
    "library(\"pgirmess\", lib.loc=\"~/R/win-library/3.3\")"
   ]
  },
  {
   "cell_type": "markdown",
   "metadata": {},
   "source": [
    "## Funciones"
   ]
  },
  {
   "cell_type": "code",
   "execution_count": 3,
   "metadata": {
    "collapsed": false
   },
   "outputs": [],
   "source": [
    "options(repr.plot.width=5, repr.plot.height=4)"
   ]
  },
  {
   "cell_type": "markdown",
   "metadata": {},
   "source": [
    "# Cargando los datos"
   ]
  },
  {
   "cell_type": "markdown",
   "metadata": {},
   "source": [
    "## Simulaciones 10"
   ]
  },
  {
   "cell_type": "code",
   "execution_count": 4,
   "metadata": {
    "collapsed": false
   },
   "outputs": [],
   "source": [
    "Sim5 <- read.csv(\"Simulation5.csv\", skip = 39, sep = \",\")\n",
    "Sim5$X.all.run.data. <- NULL\n",
    "Sim10 <- read.csv(\"Simulation10.csv\", skip = 39, sep = \",\")\n",
    "Sim10$X.all.run.data. <- NULL\n",
    "Sim15 <- read.csv(\"Simulation15.csv\", skip = 39, sep = \",\")\n",
    "Sim15$X.all.run.data. <- NULL\n",
    "Sim20 <- read.csv(\"Simulation20.csv\", skip = 39, sep = \",\")\n",
    "Sim20$X.all.run.data. <- NULL\n",
    "Sim30 <- read.csv(\"Simulation30.csv\", skip = 39, sep = \",\")\n",
    "Sim30$X.all.run.data. <- NULL\n",
    "Sim40 <- read.csv(\"Simulation40.csv\", skip = 39, sep = \",\")\n",
    "Sim40$X.all.run.data. <- NULL\n",
    "Sim50 <- read.csv(\"Simulation50.csv\", skip = 39, sep = \",\")\n",
    "Sim50$X.all.run.data. <- NULL"
   ]
  },
  {
   "cell_type": "markdown",
   "metadata": {},
   "source": [
    "# Limpiando datos"
   ]
  },
  {
   "cell_type": "markdown",
   "metadata": {},
   "source": [
    "## Creando dataframes de WOM sales 10 simulaciones"
   ]
  },
  {
   "cell_type": "code",
   "execution_count": 5,
   "metadata": {
    "collapsed": false
   },
   "outputs": [],
   "source": [
    "Sim5_WOM_sales <- Sim5[c(1, 4, 7, 10, 13, 16, 19, 22, 25, 28)]\n",
    "Sim5_WOM_sales_sum <- colSums(Sim5_WOM_sales)\n",
    "Sim5_WOM_sales_sum_df <- data.frame(Sim5_WOM_sales_sum)\n",
    "colnames(Sim5_WOM_sales_sum_df) <-  \"5%\"\n",
    "Sim5_WOM_sales_sum_df <- cbind(WOM_sales = rownames(Sim5_WOM_sales_sum_df), Sim5_WOM_sales_sum_df)\n",
    "rownames(Sim5_WOM_sales_sum_df) <- NULL\n",
    "\n",
    "Sim10_WOM_sales <- Sim10[c(1, 4, 7, 10, 13, 16, 19, 22, 25, 28)]\n",
    "Sim10_WOM_sales_sum <- colSums(Sim10_WOM_sales)\n",
    "Sim10_WOM_sales_sum_df <- data.frame(Sim10_WOM_sales_sum)\n",
    "colnames(Sim10_WOM_sales_sum_df) <- \"10%\"\n",
    "Sim10_WOM_sales_sum_df <- cbind(WOM_sales = rownames(Sim10_WOM_sales_sum_df), Sim10_WOM_sales_sum_df)\n",
    "rownames(Sim10_WOM_sales_sum_df) <- NULL\n",
    "\n",
    "Sim15_WOM_sales <- Sim15[c(1, 4, 7, 10, 13, 16, 19, 22, 25, 28)]\n",
    "Sim15_WOM_sales_sum <- colSums(Sim15_WOM_sales)\n",
    "Sim15_WOM_sales_sum_df <- data.frame(Sim15_WOM_sales_sum)\n",
    "colnames(Sim15_WOM_sales_sum_df) <- \"15%\"\n",
    "Sim15_WOM_sales_sum_df <- cbind(WOM_sales = rownames(Sim15_WOM_sales_sum_df), Sim15_WOM_sales_sum_df)\n",
    "rownames(Sim15_WOM_sales_sum_df) <- NULL\n",
    "\n",
    "Sim20_WOM_sales <- Sim20[c(1, 4, 7, 10, 13, 16, 19, 22, 25, 28)]\n",
    "Sim20_WOM_sales_sum <- colSums(Sim20_WOM_sales)\n",
    "Sim20_WOM_sales_sum_df <- data.frame(Sim20_WOM_sales_sum)\n",
    "colnames(Sim20_WOM_sales_sum_df) <- \"20%\"\n",
    "Sim20_WOM_sales_sum_df <- cbind(WOM_sales = rownames(Sim20_WOM_sales_sum_df), Sim20_WOM_sales_sum_df)\n",
    "rownames(Sim20_WOM_sales_sum_df) <- NULL\n",
    "\n",
    "Sim30_WOM_sales <- Sim30[c(1, 4, 7, 10, 13, 16, 19, 22, 25, 28)]\n",
    "Sim30_WOM_sales_sum <- colSums(Sim30_WOM_sales)\n",
    "Sim30_WOM_sales_sum_df <- data.frame(Sim30_WOM_sales_sum)\n",
    "colnames(Sim30_WOM_sales_sum_df) <- \"30%\"\n",
    "Sim30_WOM_sales_sum_df <- cbind(WOM_sales = rownames(Sim30_WOM_sales_sum_df), Sim30_WOM_sales_sum_df)\n",
    "rownames(Sim30_WOM_sales_sum_df) <- NULL\n",
    "\n",
    "Sim40_WOM_sales <- Sim40[c(1, 4, 7, 10, 13, 16, 19, 22, 25, 28)]\n",
    "Sim40_WOM_sales_sum <- colSums(Sim40_WOM_sales)\n",
    "Sim40_WOM_sales_sum_df <- data.frame(Sim40_WOM_sales_sum)\n",
    "colnames(Sim40_WOM_sales_sum_df) <- \"40%\"\n",
    "Sim40_WOM_sales_sum_df <- cbind(WOM_sales = rownames(Sim40_WOM_sales_sum_df), Sim40_WOM_sales_sum_df)\n",
    "rownames(Sim40_WOM_sales_sum_df) <- NULL\n",
    "\n",
    "Sim50_WOM_sales <- Sim50[c(1, 4, 7, 10, 13, 16, 19, 22, 25, 28)]\n",
    "Sim50_WOM_sales_sum <- colSums(Sim50_WOM_sales)\n",
    "Sim50_WOM_sales_sum_df <- data.frame(Sim50_WOM_sales_sum)\n",
    "colnames(Sim50_WOM_sales_sum_df) <- \"50%\"\n",
    "Sim50_WOM_sales_sum_df <- cbind(WOM_sales = rownames(Sim50_WOM_sales_sum_df), Sim50_WOM_sales_sum_df)\n",
    "rownames(Sim50_WOM_sales_sum_df) <- NULL"
   ]
  },
  {
   "cell_type": "markdown",
   "metadata": {},
   "source": [
    "## Uniendo dataframes"
   ]
  },
  {
   "cell_type": "code",
   "execution_count": 6,
   "metadata": {
    "collapsed": false
   },
   "outputs": [],
   "source": [
    "WOM_sales_10 <- Reduce(function(x, y) merge(x, y, , by = \"WOM_sales\", all = TRUE), \n",
    "    list(Sim5_WOM_sales_sum_df, Sim10_WOM_sales_sum_df, Sim15_WOM_sales_sum_df, Sim20_WOM_sales_sum_df, Sim30_WOM_sales_sum_df,\n",
    "        Sim40_WOM_sales_sum_df, Sim50_WOM_sales_sum_df))\n",
    "WOM_sales_10$WOM_sales <- NULL"
   ]
  },
  {
   "cell_type": "markdown",
   "metadata": {},
   "source": [
    "# Estadística descriptiva"
   ]
  },
  {
   "cell_type": "markdown",
   "metadata": {},
   "source": [
    "Se realizó un boxplot al WOM_sales de 10 simulaciones y los resultados muestran que para un 30% o superior de promotores los valores de WOM sales se incrementa en una proporción ilógica ya que el emprendedor tendría un % muy alto del mercado y esto no suele ocurrir."
   ]
  },
  {
   "cell_type": "code",
   "execution_count": 8,
   "metadata": {
    "collapsed": false
   },
   "outputs": [
    {
     "data": {
      "image/png": "[encoded data removed]",
      "text/plain": [
       "plot without title"
      ]
     },
     "metadata": {
      "image/svg+xml": {
       "isolated": true
      }
     },
     "output_type": "display_data"
    }
   ],
   "source": [
    "boxplot(WOM_sales_10, xlab= \"% Promotores\", ylab =\"WOM sales\")"
   ]
  },
  {
   "cell_type": "code",
   "execution_count": 10,
   "metadata": {
    "collapsed": false
   },
   "outputs": [
    {
     "data": {
      "text/html": [
       "<strong>pdf:</strong> 2"
      ],
      "text/latex": [
       "\\textbf{pdf:} 2"
      ],
      "text/markdown": [
       "**pdf:** 2"
      ],
      "text/plain": [
       "pdf \n",
       "  2 "
      ]
     },
     "metadata": {},
     "output_type": "display_data"
    }
   ],
   "source": [
    "setEPS()\n",
    "postscript(\"Prom_Vs_WoM.eps\")\n",
    "boxplot(WOM_sales_10, xlab= \"% Promotores\", ylab =\"WOM sales\", main=\"WOM_sales_10\")\n",
    "dev.off()"
   ]
  },
  {
   "cell_type": "code",
   "execution_count": 13,
   "metadata": {
    "collapsed": false
   },
   "outputs": [
    {
     "data": {
      "image/png": "[encoded data removed]",
      "text/plain": [
       "Plot with title \"Histogram of WOM_sales_10$\"20%\"\""
      ]
     },
     "metadata": {
      "image/svg+xml": {
       "isolated": true
      }
     },
     "output_type": "display_data"
    }
   ],
   "source": [
    "hist(WOM_sales_10$\"20%\")"
   ]
  },
  {
   "cell_type": "markdown",
   "metadata": {},
   "source": [
    "## Media y desviación estandar del WOM sales para cada % de promotores"
   ]
  },
  {
   "cell_type": "code",
   "execution_count": 29,
   "metadata": {
    "collapsed": false
   },
   "outputs": [
    {
     "data": {
      "text/html": [
       "<table>\n",
       "<thead><tr><th></th><th scope=col>5%</th><th scope=col>10%</th><th scope=col>15%</th><th scope=col>20%</th><th scope=col>30%</th><th scope=col>40%</th><th scope=col>50%</th></tr></thead>\n",
       "<tbody>\n",
       "\t<tr><th scope=row>1</th><td>  26</td><td> 773</td><td>1095</td><td>3191</td><td>3644</td><td>3682</td><td>3610</td></tr>\n",
       "\t<tr><th scope=row>2</th><td> 223</td><td> 668</td><td>1062</td><td>3287</td><td>3664</td><td>3755</td><td>3568</td></tr>\n",
       "\t<tr><th scope=row>3</th><td> 246</td><td> 697</td><td>1192</td><td>3212</td><td>3633</td><td>3690</td><td>3619</td></tr>\n",
       "\t<tr><th scope=row>4</th><td> 239</td><td> 670</td><td>1090</td><td>3156</td><td>3633</td><td>3773</td><td>3586</td></tr>\n",
       "\t<tr><th scope=row>5</th><td>  22</td><td> 643</td><td> 999</td><td>3277</td><td>3672</td><td>3734</td><td>3612</td></tr>\n",
       "\t<tr><th scope=row>6</th><td>  94</td><td> 709</td><td>1092</td><td>3208</td><td>3645</td><td>3728</td><td>3614</td></tr>\n",
       "</tbody>\n",
       "</table>\n"
      ],
      "text/latex": [
       "\\begin{tabular}{r|lllllll}\n",
       "  & 5\\% & 10\\% & 15\\% & 20\\% & 30\\% & 40\\% & 50\\%\\\\\n",
       "\\hline\n",
       "\t1 &   26 &  773 & 1095 & 3191 & 3644 & 3682 & 3610\\\\\n",
       "\t2 &  223 &  668 & 1062 & 3287 & 3664 & 3755 & 3568\\\\\n",
       "\t3 &  246 &  697 & 1192 & 3212 & 3633 & 3690 & 3619\\\\\n",
       "\t4 &  239 &  670 & 1090 & 3156 & 3633 & 3773 & 3586\\\\\n",
       "\t5 &   22 &  643 &  999 & 3277 & 3672 & 3734 & 3612\\\\\n",
       "\t6 &   94 &  709 & 1092 & 3208 & 3645 & 3728 & 3614\\\\\n",
       "\\end{tabular}\n"
      ],
      "text/plain": [
       "   5% 10%  15%  20%  30%  40%  50%\n",
       "1  26 773 1095 3191 3644 3682 3610\n",
       "2 223 668 1062 3287 3664 3755 3568\n",
       "3 246 697 1192 3212 3633 3690 3619\n",
       "4 239 670 1090 3156 3633 3773 3586\n",
       "5  22 643  999 3277 3672 3734 3612\n",
       "6  94 709 1092 3208 3645 3728 3614"
      ]
     },
     "metadata": {},
     "output_type": "display_data"
    }
   ],
   "source": [
    "head(WOM_sales_10)"
   ]
  },
  {
   "cell_type": "code",
   "execution_count": 30,
   "metadata": {
    "collapsed": false,
    "scrolled": true
   },
   "outputs": [
    {
     "data": {
      "text/html": [
       "<table>\n",
       "<thead><tr><th></th><th scope=col>nrpromoters</th><th scope=col>media</th><th scope=col>desv_est</th></tr></thead>\n",
       "<tbody>\n",
       "\t<tr><th scope=row>1</th><td>10%             </td><td>700.3           </td><td>37.9504062341015</td></tr>\n",
       "\t<tr><th scope=row>2</th><td>15%             </td><td>1079.4          </td><td>57.8430827517191</td></tr>\n",
       "\t<tr><th scope=row>3</th><td>20%             </td><td>3224            </td><td>45.2401002061961</td></tr>\n",
       "\t<tr><th scope=row>4</th><td>30%             </td><td>3652.4          </td><td>31.1276939931845</td></tr>\n",
       "\t<tr><th scope=row>5</th><td>40%             </td><td>3710.9          </td><td>43.0721616721417</td></tr>\n",
       "\t<tr><th scope=row>6</th><td>5%              </td><td>163.2           </td><td>111.796243228473</td></tr>\n",
       "\t<tr><th scope=row>7</th><td>50%             </td><td>3611.5          </td><td>26.1034267652523</td></tr>\n",
       "</tbody>\n",
       "</table>\n"
      ],
      "text/latex": [
       "\\begin{tabular}{r|lll}\n",
       "  & nrpromoters & media & desv\\_est\\\\\n",
       "\\hline\n",
       "\t1 & 10\\%            & 700.3            & 37.9504062341015\\\\\n",
       "\t2 & 15\\%            & 1079.4           & 57.8430827517191\\\\\n",
       "\t3 & 20\\%            & 3224             & 45.2401002061961\\\\\n",
       "\t4 & 30\\%            & 3652.4           & 31.1276939931845\\\\\n",
       "\t5 & 40\\%            & 3710.9           & 43.0721616721417\\\\\n",
       "\t6 & 5\\%             & 163.2            & 111.796243228473\\\\\n",
       "\t7 & 50\\%            & 3611.5           & 26.1034267652523\\\\\n",
       "\\end{tabular}\n"
      ],
      "text/plain": [
       "  nrpromoters  media  desv_est\n",
       "1         10%  700.3  37.95041\n",
       "2         15% 1079.4  57.84308\n",
       "3         20% 3224.0  45.24010\n",
       "4         30% 3652.4  31.12769\n",
       "5         40% 3710.9  43.07216\n",
       "6          5%  163.2 111.79624\n",
       "7         50% 3611.5  26.10343"
      ]
     },
     "metadata": {},
     "output_type": "display_data"
    }
   ],
   "source": [
    "WOM_sales_10_mean <- data.frame(colMeans(WOM_sales_10))\n",
    "colnames(WOM_sales_10_mean) <- \"media\"\n",
    "WOM_sales_10_mean <- cbind(nrpromoters = rownames(WOM_sales_10_mean), WOM_sales_10_mean)\n",
    "WOM_sales_10_sd  <- data.frame(apply(WOM_sales_10, 2, sd))\n",
    "colnames(WOM_sales_10_sd) <- \"desv_est\"\n",
    "WOM_sales_10_sd <- cbind(nrpromoters = rownames(WOM_sales_10_sd), WOM_sales_10_sd)\n",
    "WOM_sales_10_meansd <- merge(WOM_sales_10_mean, WOM_sales_10_sd, by = \"nrpromoters\")\n",
    "WOM_sales_10_meansd"
   ]
  },
  {
   "cell_type": "code",
   "execution_count": 37,
   "metadata": {
    "collapsed": false
   },
   "outputs": [],
   "source": [
    "library(matrixStats)"
   ]
  },
  {
   "cell_type": "code",
   "execution_count": 39,
   "metadata": {
    "collapsed": true
   },
   "outputs": [],
   "source": [
    "WOM1<- as.matrix(WOM_sales_10)"
   ]
  },
  {
   "cell_type": "code",
   "execution_count": 41,
   "metadata": {
    "collapsed": false
   },
   "outputs": [],
   "source": [
    "WOM_median <- colMedians(WOM1)"
   ]
  },
  {
   "cell_type": "code",
   "execution_count": 42,
   "metadata": {
    "collapsed": false,
    "scrolled": true
   },
   "outputs": [
    {
     "data": {
      "text/html": [
       "<ol class=list-inline>\n",
       "\t<li>230</li>\n",
       "\t<li>703</li>\n",
       "\t<li>1076</li>\n",
       "\t<li>3214</li>\n",
       "\t<li>3648</li>\n",
       "\t<li>3719.5</li>\n",
       "</ol>\n"
      ],
      "text/latex": [
       "\\begin{enumerate*}\n",
       "\\item 230\n",
       "\\item 703\n",
       "\\item 1076\n",
       "\\item 3214\n",
       "\\item 3648\n",
       "\\item 3719.5\n",
       "\\end{enumerate*}\n"
      ],
      "text/markdown": [
       "1. 230\n",
       "2. 703\n",
       "3. 1076\n",
       "4. 3214\n",
       "5. 3648\n",
       "6. 3719.5\n",
       "\n",
       "\n"
      ],
      "text/plain": [
       "[1]  230.0  703.0 1076.0 3214.0 3648.0 3719.5"
      ]
     },
     "metadata": {},
     "output_type": "display_data"
    }
   ],
   "source": [
    "head(WOM_median)"
   ]
  },
  {
   "cell_type": "code",
   "execution_count": 43,
   "metadata": {
    "collapsed": true
   },
   "outputs": [],
   "source": [
    "WOM_median1 <- as.data.frame(WOM_median)"
   ]
  },
  {
   "cell_type": "code",
   "execution_count": 44,
   "metadata": {
    "collapsed": false,
    "scrolled": false
   },
   "outputs": [
    {
     "data": {
      "text/html": [
       "<table>\n",
       "<thead><tr><th></th><th scope=col>WOM_median</th></tr></thead>\n",
       "<tbody>\n",
       "\t<tr><th scope=row>1</th><td>230</td></tr>\n",
       "\t<tr><th scope=row>2</th><td>703</td></tr>\n",
       "\t<tr><th scope=row>3</th><td>1076</td></tr>\n",
       "\t<tr><th scope=row>4</th><td>3214</td></tr>\n",
       "\t<tr><th scope=row>5</th><td>3648</td></tr>\n",
       "\t<tr><th scope=row>6</th><td>3719.5</td></tr>\n",
       "\t<tr><th scope=row>7</th><td>3612.5</td></tr>\n",
       "</tbody>\n",
       "</table>\n"
      ],
      "text/latex": [
       "\\begin{tabular}{r|l}\n",
       "  & WOM\\_median\\\\\n",
       "\\hline\n",
       "\t1 & 230\\\\\n",
       "\t2 & 703\\\\\n",
       "\t3 & 1076\\\\\n",
       "\t4 & 3214\\\\\n",
       "\t5 & 3648\\\\\n",
       "\t6 & 3719.5\\\\\n",
       "\t7 & 3612.5\\\\\n",
       "\\end{tabular}\n"
      ],
      "text/plain": [
       "  WOM_median\n",
       "1      230.0\n",
       "2      703.0\n",
       "3     1076.0\n",
       "4     3214.0\n",
       "5     3648.0\n",
       "6     3719.5\n",
       "7     3612.5"
      ]
     },
     "metadata": {},
     "output_type": "display_data"
    }
   ],
   "source": [
    "WOM_median1"
   ]
  },
  {
   "cell_type": "code",
   "execution_count": 61,
   "metadata": {
    "collapsed": false
   },
   "outputs": [],
   "source": [
    "Promotores<- as.data.frame(c(\"5%\", \"10%\", \"15%\", \"20%\", \"30%\", \"40%\", \"50%\") )"
   ]
  },
  {
   "cell_type": "code",
   "execution_count": 63,
   "metadata": {
    "collapsed": false
   },
   "outputs": [],
   "source": [
    "colnames(Promotores)<- \"Promotores\""
   ]
  },
  {
   "cell_type": "code",
   "execution_count": 64,
   "metadata": {
    "collapsed": true
   },
   "outputs": [],
   "source": [
    "table_median <- cbind(WOM_median, Promotores)"
   ]
  },
  {
   "cell_type": "code",
   "execution_count": 65,
   "metadata": {
    "collapsed": false
   },
   "outputs": [
    {
     "data": {
      "text/html": [
       "<table>\n",
       "<thead><tr><th></th><th scope=col>WOM_median</th><th scope=col>Promotores</th></tr></thead>\n",
       "<tbody>\n",
       "\t<tr><th scope=row>1</th><td>230</td><td>5% </td></tr>\n",
       "\t<tr><th scope=row>2</th><td>703</td><td>10%</td></tr>\n",
       "\t<tr><th scope=row>3</th><td>1076</td><td>15% </td></tr>\n",
       "\t<tr><th scope=row>4</th><td>3214</td><td>20% </td></tr>\n",
       "\t<tr><th scope=row>5</th><td>3648</td><td>30% </td></tr>\n",
       "\t<tr><th scope=row>6</th><td>3719.5</td><td>40%   </td></tr>\n",
       "\t<tr><th scope=row>7</th><td>3612.5</td><td>50%   </td></tr>\n",
       "</tbody>\n",
       "</table>\n"
      ],
      "text/latex": [
       "\\begin{tabular}{r|ll}\n",
       "  & WOM\\_median & Promotores\\\\\n",
       "\\hline\n",
       "\t1 & 230  & 5\\%\\\\\n",
       "\t2 & 703   & 10\\%\\\\\n",
       "\t3 & 1076  & 15\\%\\\\\n",
       "\t4 & 3214  & 20\\%\\\\\n",
       "\t5 & 3648  & 30\\%\\\\\n",
       "\t6 & 3719.5 & 40\\% \\\\\n",
       "\t7 & 3612.5 & 50\\% \\\\\n",
       "\\end{tabular}\n"
      ],
      "text/plain": [
       "  WOM_median Promotores\n",
       "1      230.0         5%\n",
       "2      703.0        10%\n",
       "3     1076.0        15%\n",
       "4     3214.0        20%\n",
       "5     3648.0        30%\n",
       "6     3719.5        40%\n",
       "7     3612.5        50%"
      ]
     },
     "metadata": {},
     "output_type": "display_data"
    }
   ],
   "source": [
    "table_median"
   ]
  },
  {
   "cell_type": "markdown",
   "metadata": {},
   "source": [
    "# Estadística inferencial"
   ]
  },
  {
   "cell_type": "markdown",
   "metadata": {},
   "source": [
    "## Se identifica la normalidad"
   ]
  },
  {
   "cell_type": "markdown",
   "metadata": {},
   "source": [
    "Se aplica la prueba de Shapiro Wilk ya que son 10 datos por cada variable, se hicieron 10 simulaciones para cada porcentaje de promotores. Esto con el fin de determinar si los datos tienen una distribución normal."
   ]
  },
  {
   "cell_type": "code",
   "execution_count": 15,
   "metadata": {
    "collapsed": false
   },
   "outputs": [
    {
     "data": {
      "text/plain": [
       "\n",
       "\tShapiro-Wilk normality test\n",
       "\n",
       "data:  Sim5_WOM_sales_sum_df$\"5%\"\n",
       "W = 0.79074, p-value = 0.01119\n"
      ]
     },
     "metadata": {},
     "output_type": "display_data"
    }
   ],
   "source": [
    "shapiro.test(Sim5_WOM_sales_sum_df$\"5%\")"
   ]
  },
  {
   "cell_type": "code",
   "execution_count": 16,
   "metadata": {
    "collapsed": false
   },
   "outputs": [
    {
     "data": {
      "text/plain": [
       "\n",
       "\tShapiro-Wilk normality test\n",
       "\n",
       "data:  Sim10_WOM_sales_sum_df$\"10%\"\n",
       "W = 0.97273, p-value = 0.915\n"
      ]
     },
     "metadata": {},
     "output_type": "display_data"
    }
   ],
   "source": [
    "shapiro.test(Sim10_WOM_sales_sum_df$\"10%\")"
   ]
  },
  {
   "cell_type": "code",
   "execution_count": 17,
   "metadata": {
    "collapsed": false
   },
   "outputs": [
    {
     "data": {
      "text/plain": [
       "\n",
       "\tShapiro-Wilk normality test\n",
       "\n",
       "data:  Sim15_WOM_sales_sum_df$\"15%\"\n",
       "W = 0.95288, p-value = 0.7027\n"
      ]
     },
     "metadata": {},
     "output_type": "display_data"
    }
   ],
   "source": [
    "shapiro.test(Sim15_WOM_sales_sum_df$\"15%\")"
   ]
  },
  {
   "cell_type": "code",
   "execution_count": 18,
   "metadata": {
    "collapsed": false
   },
   "outputs": [
    {
     "data": {
      "text/plain": [
       "\n",
       "\tShapiro-Wilk normality test\n",
       "\n",
       "data:  Sim20_WOM_sales_sum_df$\"20%\"\n",
       "W = 0.9292, p-value = 0.44\n"
      ]
     },
     "metadata": {},
     "output_type": "display_data"
    }
   ],
   "source": [
    "shapiro.test(Sim20_WOM_sales_sum_df$\"20%\")"
   ]
  },
  {
   "cell_type": "markdown",
   "metadata": {},
   "source": [
    "De acuerdo a los resultados de la prueba shapiro wilk los datos de WOM sales solo son normales al 5%. Por lo tanto, se aplica la prueba de Kruskal Wallis para datos no paramétricos. Con esta prueba se identifica si hay una diferencia significativa entre las medianas. "
   ]
  },
  {
   "cell_type": "markdown",
   "metadata": {},
   "source": [
    "## Comparación de las medianas - Kruskal Wallis"
   ]
  },
  {
   "cell_type": "markdown",
   "metadata": {},
   "source": [
    "Se crea una variable con todos los datos que tenga dos columnas: nrpromoters y WOM_sales"
   ]
  },
  {
   "cell_type": "code",
   "execution_count": 19,
   "metadata": {
    "collapsed": true
   },
   "outputs": [],
   "source": [
    "WOM5 <- data.frame(WOM_sales_10$\"5%\" , colnames = \"5\") \n",
    "colnames(WOM5) <- c(\"WOM_sales\", \"nrpromoters\")\n",
    "\n",
    "WOM10 <- data.frame(WOM_sales_10$\"10%\" , colnames = \"10\") \n",
    "colnames(WOM10) <- c(\"WOM_sales\", \"nrpromoters\")\n",
    "\n",
    "WOM15 <- data.frame(WOM_sales_10$\"15%\" , colnames = \"15\") \n",
    "colnames(WOM15) <- c(\"WOM_sales\", \"nrpromoters\")\n",
    "\n",
    "WOM20 <- data.frame(WOM_sales_10$\"20%\" , colnames = \"20\") \n",
    "colnames(WOM20) <- c(\"WOM_sales\", \"nrpromoters\")\n",
    "\n",
    "WOM_sales_all <- Reduce(function(x, y) merge(x, y, all = TRUE), \n",
    "    list(WOM5, WOM10, WOM15, WOM20))"
   ]
  },
  {
   "cell_type": "code",
   "execution_count": 20,
   "metadata": {
    "collapsed": false
   },
   "outputs": [
    {
     "data": {
      "text/plain": [
       "\n",
       "\tKruskal-Wallis rank sum test\n",
       "\n",
       "data:  WOM_sales by nrpromoters\n",
       "Kruskal-Wallis chi-squared = 36.589, df = 3, p-value = 5.622e-08\n"
      ]
     },
     "metadata": {},
     "output_type": "display_data"
    }
   ],
   "source": [
    "kruskal.test(WOM_sales~nrpromoters, data = WOM_sales_all)"
   ]
  },
  {
   "cell_type": "markdown",
   "metadata": {},
   "source": [
    "El p-value es menor a 0.001 por lo tanto existe una diferencia significativa entre las diferentes simulaciones. "
   ]
  },
  {
   "cell_type": "markdown",
   "metadata": {},
   "source": [
    "## Comparaciones múltiples en modelos no paramétricos"
   ]
  },
  {
   "cell_type": "code",
   "execution_count": 134,
   "metadata": {
    "collapsed": false
   },
   "outputs": [
    {
     "name": "stdout",
     "output_type": "stream",
     "text": [
      "\n",
      " #------Nonparametric Test Procedures and Confidence Intervals for relative  effects-----# \n",
      " \n",
      " - Alternative Hypothesis:  True relative effect p is less or equal than 1/2 \n",
      " - Confidence level: 95 % \n",
      " - Method = Logit - Transformation \n",
      " \n",
      " #---------------------------Interpretation----------------------------------# \n",
      " p(a,b) > 1/2 : b tends to be larger than a \n",
      " #---------------------------------------------------------------------------# \n",
      " \n"
     ]
    }
   ],
   "source": [
    "npar <- npar.t.test(WOM_sales~nrpromoters, data=WOM_test)"
   ]
  },
  {
   "cell_type": "code",
   "execution_count": 21,
   "metadata": {
    "collapsed": false
   },
   "outputs": [
    {
     "ename": "ERROR",
     "evalue": "Error in vapply(seq_along(mapped), function(i) {: Los valores deben ser de longitud 1, \npero el resultado FUN(X [[3]]) es la longitud 0 \n",
     "output_type": "error",
     "traceback": [
      "Error in vapply(seq_along(mapped), function(i) {: Los valores deben ser de longitud 1, \npero el resultado FUN(X [[3]]) es la longitud 0 \nTraceback:\n",
      "1. tryCatch({\n .     for (mime in getOption(\"jupyter.display_mimetypes\")) {\n .         r <- mime2repr[[mime]](obj)\n .         if (!is.null(r)) \n .             data[[mime]] <- r\n .     }\n . }, error = handle_error)"
     ]
    },
    {
     "data": {
      "text/html": [
       "<dl>\n",
       "\t<dt>$statistic</dt>\n",
       "\t\t<dd>\"Multiple comparison test after Kruskal-Wallis\"</dd>\n",
       "\t<dt>$signif.level</dt>\n",
       "\t\t<dd>0.05</dd>\n",
       "\t<dt>$dif.com</dt>\n",
       "\t\t<dd><table>\n",
       "<thead><tr><th></th><th scope=col>obs.dif</th><th scope=col>critical.dif</th><th scope=col>difference</th></tr></thead>\n",
       "<tbody>\n",
       "\t<tr><th scope=row>5-10</th><td>10.00000</td><td>13.79315</td><td> 0.00000</td></tr>\n",
       "\t<tr><th scope=row>5-15</th><td>20.00000</td><td>13.79315</td><td> 1.00000</td></tr>\n",
       "\t<tr><th scope=row>5-20</th><td>30.00000</td><td>13.79315</td><td> 1.00000</td></tr>\n",
       "\t<tr><th scope=row>10-15</th><td>10.00000</td><td>13.79315</td><td> 0.00000</td></tr>\n",
       "\t<tr><th scope=row>10-20</th><td>20.00000</td><td>13.79315</td><td> 1.00000</td></tr>\n",
       "\t<tr><th scope=row>15-20</th><td>10.00000</td><td>13.79315</td><td> 0.00000</td></tr>\n",
       "</tbody>\n",
       "</table>\n",
       "</dd>\n",
       "</dl>\n"
      ],
      "text/plain": [
       "Multiple comparison test after Kruskal-Wallis \n",
       "p.value: 0.05 \n",
       "Comparisons\n",
       "      obs.dif critical.dif difference\n",
       "5-10       10     13.79315      FALSE\n",
       "5-15       20     13.79315       TRUE\n",
       "5-20       30     13.79315       TRUE\n",
       "10-15      10     13.79315      FALSE\n",
       "10-20      20     13.79315       TRUE\n",
       "15-20      10     13.79315      FALSE"
      ]
     },
     "metadata": {},
     "output_type": "display_data"
    }
   ],
   "source": [
    "kruskalmc(WOM_sales~nrpromoters, data = WOM_sales_all) # True es 1, False es 0"
   ]
  },
  {
   "cell_type": "code",
   "execution_count": 22,
   "metadata": {
    "collapsed": false,
    "scrolled": true
   },
   "outputs": [
    {
     "data": {
      "text/plain": [
       "NULL"
      ]
     },
     "metadata": {},
     "output_type": "display_data"
    }
   ],
   "source": [
    "coef(kruskalmc(WOM_sales~nrpromoters, data = WOM_sales_all))"
   ]
  },
  {
   "cell_type": "markdown",
   "metadata": {},
   "source": [
    "# Test"
   ]
  },
  {
   "cell_type": "code",
   "execution_count": 26,
   "metadata": {
    "collapsed": false,
    "scrolled": true
   },
   "outputs": [],
   "source": [
    "WOM_sales_10 <- Reduce(function(x, y) merge(x, y, , by = \"WOM_sales\", all = TRUE), \n",
    "    list(Sim5_WOM_sales_sum_df, Sim10_WOM_sales_sum_df, Sim15_WOM_sales_sum_df))\n",
    "WOM_sales_10$WOM_sales <- NULL"
   ]
  },
  {
   "cell_type": "code",
   "execution_count": 27,
   "metadata": {
    "collapsed": false,
    "scrolled": false
   },
   "outputs": [
    {
     "data": {
      "application/pdf": "[encoded data removed]",
      "image/jpeg": "[encoded data removed]",
      "image/png": "[encoded data removed]",
      "text/plain": [
       "plot without title"
      ]
     },
     "metadata": {
      "image/svg+xml": {
       "isolated": true
      }
     },
     "output_type": "display_data"
    }
   ],
   "source": [
    "boxplot(WOM_sales_10)"
   ]
  },
  {
   "cell_type": "code",
   "execution_count": null,
   "metadata": {
    "collapsed": true
   },
   "outputs": [],
   "source": []
  },
  {
   "cell_type": "code",
   "execution_count": 1,
   "metadata": {
    "collapsed": false
   },
   "outputs": [
    {
     "ename": "ERROR",
     "evalue": "Error in Reduce(function(x, y) merge(x, y, , by = \"WOM_sales\", all = TRUE), : objeto 'Sim5_WOM_sales_sum_df' no encontrado\n",
     "output_type": "error",
     "traceback": [
      "Error in Reduce(function(x, y) merge(x, y, , by = \"WOM_sales\", all = TRUE), : objeto 'Sim5_WOM_sales_sum_df' no encontrado\nTraceback:\n",
      "1. Reduce(function(x, y) merge(x, y, , by = \"WOM_sales\", all = TRUE), \n .     list(Sim5_WOM_sales_sum_df, Sim10_WOM_sales_sum_df, Sim15_WOM_sales_sum_df, \n .         Sim20_WOM_sales_sum_df))"
     ]
    }
   ],
   "source": [
    "WOM_sales_test <- Reduce(function(x, y) merge(x, y, , by = \"WOM_sales\", all = TRUE), \n",
    "    list(Sim5_WOM_sales_sum_df, Sim10_WOM_sales_sum_df, Sim15_WOM_sales_sum_df, Sim20_WOM_sales_sum_df))\n",
    "WOM_sales_test$WOM_sales <- NULL"
   ]
  },
  {
   "cell_type": "code",
   "execution_count": null,
   "metadata": {
    "collapsed": true
   },
   "outputs": [],
   "source": []
  },
  {
   "cell_type": "markdown",
   "metadata": {
    "collapsed": true
   },
   "source": [
    "# Anexos"
   ]
  },
  {
   "cell_type": "markdown",
   "metadata": {},
   "source": [
    "# Cargando datos "
   ]
  },
  {
   "cell_type": "markdown",
   "metadata": {},
   "source": [
    "## Simulaciones 50"
   ]
  },
  {
   "cell_type": "code",
   "execution_count": null,
   "metadata": {
    "collapsed": true
   },
   "outputs": [],
   "source": [
    "Sim5_50 <- read.csv(\"Simulation5_50_sim.csv\", skip = 39, sep = \",\")\n",
    "Sim5_50$X.all.run.data. <- NULL\n",
    "Sim10_50 <- read.csv(\"Simulation10_50_sim.csv\", skip = 39, sep = \",\")\n",
    "Sim10_50$X.all.run.data. <- NULL\n",
    "Sim15_50 <- read.csv(\"Simulation15_50_sim.csv\", skip = 39, sep = \",\")\n",
    "Sim15_50$X.all.run.data. <- NULL\n",
    "Sim20_50 <- read.csv(\"Simulation20_50_sim.csv\", skip = 39, sep = \",\")\n",
    "Sim20_50$X.all.run.data. <- NULL\n",
    "Sim30_50 <- read.csv(\"Simulation30_50_sim.csv\", skip = 39, sep = \",\")\n",
    "Sim30_50$X.all.run.data. <- NULL\n",
    "Sim40_50 <- read.csv(\"Simulation40_50_sim.csv\", skip = 39, sep = \",\")\n",
    "Sim40_50$X.all.run.data. <- NULL\n",
    "Sim50_50 <- read.csv(\"Simulation50_50_sim.csv\", skip = 39, sep = \",\")\n",
    "Sim50_50$X.all.run.data. <- NULL"
   ]
  },
  {
   "cell_type": "markdown",
   "metadata": {},
   "source": [
    "## Simulaciones 100"
   ]
  },
  {
   "cell_type": "code",
   "execution_count": null,
   "metadata": {
    "collapsed": true
   },
   "outputs": [],
   "source": [
    "Sim5_100 <- read.csv(\"Simulation5_100_sim.csv\", skip = 39, sep = \",\")\n",
    "Sim5_100$X.all.run.data. <- NULL\n",
    "Sim10_100 <- read.csv(\"Simulation10_100_sim.csv\", skip = 39, sep = \",\")\n",
    "Sim10_100$X.all.run.data. <- NULL\n",
    "Sim15_100 <- read.csv(\"Simulation15_100_sim.csv\", skip = 39, sep = \",\")\n",
    "Sim15_100$X.all.run.data. <- NULL\n",
    "Sim20_100 <- read.csv(\"Simulation20_100_sim.csv\", skip = 39, sep = \",\")\n",
    "Sim20_100$X.all.run.data. <- NULL\n",
    "Sim30_100 <- read.csv(\"Simulation30_100_sim.csv\", skip = 39, sep = \",\")\n",
    "Sim30_100$X.all.run.data. <- NULL\n",
    "Sim40_100 <- read.csv(\"Simulation40_100_sim.csv\", skip = 39, sep = \",\")\n",
    "Sim40_100$X.all.run.data. <- NULL\n",
    "Sim50_100 <- read.csv(\"Simulation50_100_sim.csv\", skip = 39, sep = \",\")\n",
    "Sim50_100$X.all.run.data. <- NULL"
   ]
  },
  {
   "cell_type": "markdown",
   "metadata": {},
   "source": [
    "## Creando dataframes de WOM sales 50 simulaciones"
   ]
  },
  {
   "cell_type": "code",
   "execution_count": null,
   "metadata": {
    "collapsed": true
   },
   "outputs": [],
   "source": [
    "Sim5_50_WOM_sales <- Sim5_50[c(1,4,7,10,13,16,19,22,25,28,31,34,37,40,43,46,49,52,55,58,61,64,67,70,73,76,79,82,85,88,91,94,\n",
    "                                   97,100,103,106,109,112,115,118,121,124,127,130,133,136,139,142,145,148 )] \n",
    "Sim5_50_WOM_sales_sum <- colSums(Sim5_50_WOM_sales)\n",
    "Sim5_50_WOM_sales_sum_df <- data.frame(Sim5_50_WOM_sales_sum)\n",
    "colnames(Sim5_50_WOM_sales_sum_df) <- \"5%\"\n",
    "Sim5_50_WOM_sales_sum_df <- cbind(WOM_sales = rownames(Sim5_50_WOM_sales_sum_df), Sim5_50_WOM_sales_sum_df)\n",
    "rownames(Sim5_50_WOM_sales_sum_df) <- NULL\n",
    "\n",
    "Sim10_50_WOM_sales <- Sim10_50[c(1,4,7,10,13,16,19,22,25,28,31,34,37,40,43,46,49,52,55,58,61,64,67,70,73,76,79,82,85,88,91,94,\n",
    "                                   97,100,103,106,109,112,115,118,121,124,127,130,133,136,139,142,145,148 )] \n",
    "Sim10_50_WOM_sales_sum <- colSums(Sim10_50_WOM_sales)\n",
    "Sim10_50_WOM_sales_sum_df <- data.frame(Sim10_50_WOM_sales_sum)\n",
    "colnames(Sim10_50_WOM_sales_sum_df) <- \"10%\"\n",
    "Sim10_50_WOM_sales_sum_df <- cbind(WOM_sales = rownames(Sim10_50_WOM_sales_sum_df), Sim10_50_WOM_sales_sum_df)\n",
    "rownames(Sim10_50_WOM_sales_sum_df) <- NULL\n",
    "\n",
    "Sim15_50_WOM_sales <- Sim15_50[c(1,4,7,10,13,16,19,22,25,28,31,34,37,40,43,46,49,52,55,58,61,64,67,70,73,76,79,82,85,88,91,94,\n",
    "                                   97,100,103,106,109,112,115,118,121,124,127,130,133,136,139,142,145,148 )] \n",
    "Sim15_50_WOM_sales_sum <- colSums(Sim15_50_WOM_sales)\n",
    "Sim15_50_WOM_sales_sum_df <- data.frame(Sim15_50_WOM_sales_sum)\n",
    "colnames(Sim15_50_WOM_sales_sum_df) <- \"15%\"\n",
    "Sim15_50_WOM_sales_sum_df <- cbind(WOM_sales = rownames(Sim15_50_WOM_sales_sum_df), Sim15_50_WOM_sales_sum_df)\n",
    "rownames(Sim15_50_WOM_sales_sum_df) <- NULL\n",
    "\n",
    "Sim20_50_WOM_sales <- Sim20_50[c(1,4,7,10,13,16,19,22,25,28,31,34,37,40,43,46,49,52,55,58,61,64,67,70,73,76,79,82,85,88,91,94,\n",
    "                                   97,100,103,106,109,112,115,118,121,124,127,130,133,136,139,142,145,148 )] \n",
    "Sim20_50_WOM_sales_sum <- colSums(Sim20_50_WOM_sales)\n",
    "Sim20_50_WOM_sales_sum_df <- data.frame(Sim20_50_WOM_sales_sum)\n",
    "colnames(Sim20_50_WOM_sales_sum_df) <- \"20%\"\n",
    "Sim20_50_WOM_sales_sum_df <- cbind(WOM_sales = rownames(Sim20_50_WOM_sales_sum_df), Sim20_50_WOM_sales_sum_df)\n",
    "rownames(Sim20_50_WOM_sales_sum_df) <- NULL\n",
    "\n",
    "Sim30_50_WOM_sales <- Sim30_50[c(1,4,7,10,13,16,19,22,25,28,31,34,37,40,43,46,49,52,55,58,61,64,67,70,73,76,79,82,85,88,91,94,\n",
    "                                   97,100,103,106,109,112,115,118,121,124,127,130,133,136,139,142,145,148 )] \n",
    "Sim30_50_WOM_sales_sum <- colSums(Sim30_50_WOM_sales)\n",
    "Sim30_50_WOM_sales_sum_df <- data.frame(Sim30_50_WOM_sales_sum)\n",
    "colnames(Sim30_50_WOM_sales_sum_df) <- \"30%\"\n",
    "Sim30_50_WOM_sales_sum_df <- cbind(WOM_sales = rownames(Sim30_50_WOM_sales_sum_df), Sim30_50_WOM_sales_sum_df)\n",
    "rownames(Sim30_50_WOM_sales_sum_df) <- NULL\n",
    "\n",
    "Sim40_50_WOM_sales <- Sim40_50[c(1,4,7,10,13,16,19,22,25,28,31,34,37,40,43,46,49,52,55,58,61,64,67,70,73,76,79,82,85,88,91,94,\n",
    "                                   97,100,103,106,109,112,115,118,121,124,127,130,133,136,139,142,145,148 )] \n",
    "Sim40_50_WOM_sales_sum <- colSums(Sim40_50_WOM_sales)\n",
    "Sim40_50_WOM_sales_sum_df <- data.frame(Sim40_50_WOM_sales_sum)\n",
    "colnames(Sim40_50_WOM_sales_sum_df) <- \"40%\"\n",
    "Sim40_50_WOM_sales_sum_df <- cbind(WOM_sales = rownames(Sim40_50_WOM_sales_sum_df), Sim40_50_WOM_sales_sum_df)\n",
    "rownames(Sim40_50_WOM_sales_sum_df) <- NULL\n",
    "\n",
    "Sim50_50_WOM_sales <- Sim50_50[c(1,4,7,10,13,16,19,22,25,28,31,34,37,40,43,46,49,52,55,58,61,64,67,70,73,76,79,82,85,88,91,94,\n",
    "                                   97,100,103,106,109,112,115,118,121,124,127,130,133,136,139,142,145,148 )] \n",
    "Sim50_50_WOM_sales_sum <- colSums(Sim50_50_WOM_sales)\n",
    "Sim50_50_WOM_sales_sum_df <- data.frame(Sim50_50_WOM_sales_sum)\n",
    "colnames(Sim50_50_WOM_sales_sum_df) <- \"50%\"\n",
    "Sim50_50_WOM_sales_sum_df <- cbind(WOM_sales = rownames(Sim50_50_WOM_sales_sum_df), Sim50_50_WOM_sales_sum_df)\n",
    "rownames(Sim50_50_WOM_sales_sum_df) <- NULL"
   ]
  },
  {
   "cell_type": "markdown",
   "metadata": {},
   "source": [
    "### Uniendo data frames"
   ]
  },
  {
   "cell_type": "code",
   "execution_count": null,
   "metadata": {
    "collapsed": true
   },
   "outputs": [],
   "source": [
    "WOM_sales_50 <- Reduce(function(x, y) merge(x, y, , by = \"WOM_sales\", all = TRUE), \n",
    "    list(Sim5_50_WOM_sales_sum_df, Sim10_50_WOM_sales_sum_df, Sim15_50_WOM_sales_sum_df, Sim20_50_WOM_sales_sum_df, \n",
    "         Sim30_50_WOM_sales_sum_df, Sim40_50_WOM_sales_sum_df, Sim50_50_WOM_sales_sum_df))\n",
    "WOM_sales_50$WOM_sales <- NULL"
   ]
  },
  {
   "cell_type": "markdown",
   "metadata": {},
   "source": [
    "## Creando dataframes de WOM sales 100 simulaciones"
   ]
  },
  {
   "cell_type": "code",
   "execution_count": null,
   "metadata": {
    "collapsed": true
   },
   "outputs": [],
   "source": [
    "Sim5_100_WOM_sales <- Sim5_100[c(1,4,7,10,13,16,19,22,25,28,31,34,37,40,43,46,49,52,55,58,61,64,67,70,73,76,79,82,85,88,91,94,\n",
    "                                   97,100,103,106,109,112,115,118,121,124,127,130,133,136,139,142,145,148,151,154,157,160,163,\n",
    "                                   166,169,172,175,178,181,184,187,190,193,196,199,202,205,208,211,214,217,220,223,226,229,232,\n",
    "                                   235,238,241,244,247,250,253,256,259,262,265,268,271,274,277,280,283,286,289,292,295,298 )] \n",
    "Sim5_100_WOM_sales_sum <- colSums(Sim5_100_WOM_sales)\n",
    "Sim5_100_WOM_sales_sum_df <- data.frame(Sim5_100_WOM_sales_sum)\n",
    "colnames(Sim5_100_WOM_sales_sum_df) <- \"5%\"\n",
    "Sim5_100_WOM_sales_sum_df <- cbind(WOM_sales = rownames(Sim5_100_WOM_sales_sum_df), Sim5_100_WOM_sales_sum_df)\n",
    "rownames(Sim5_100_WOM_sales_sum_df) <- NULL\n",
    "\n",
    "Sim10_100_WOM_sales <- Sim10_100[c(1,4,7,10,13,16,19,22,25,28,31,34,37,40,43,46,49,52,55,58,61,64,67,70,73,76,79,82,85,88,91,94,\n",
    "                                   97,100,103,106,109,112,115,118,121,124,127,130,133,136,139,142,145,148,151,154,157,160,163,\n",
    "                                   166,169,172,175,178,181,184,187,190,193,196,199,202,205,208,211,214,217,220,223,226,229,232,\n",
    "                                   235,238,241,244,247,250,253,256,259,262,265,268,271,274,277,280,283,286,289,292,295,298 )] \n",
    "Sim10_100_WOM_sales_sum <- colSums(Sim10_100_WOM_sales)\n",
    "Sim10_100_WOM_sales_sum_df <- data.frame(Sim10_100_WOM_sales_sum)\n",
    "colnames(Sim10_100_WOM_sales_sum_df) <- \"10%\"\n",
    "Sim10_100_WOM_sales_sum_df <- cbind(WOM_sales = rownames(Sim10_100_WOM_sales_sum_df), Sim10_100_WOM_sales_sum_df)\n",
    "rownames(Sim10_100_WOM_sales_sum_df) <- NULL\n",
    "\n",
    "Sim15_100_WOM_sales <- Sim15_100[c(1,4,7,10,13,16,19,22,25,28,31,34,37,40,43,46,49,52,55,58,61,64,67,70,73,76,79,82,85,88,91,94,\n",
    "                                   97,100,103,106,109,112,115,118,121,124,127,130,133,136,139,142,145,148,151,154,157,160,163,\n",
    "                                   166,169,172,175,178,181,184,187,190,193,196,199,202,205,208,211,214,217,220,223,226,229,232,\n",
    "                                   235,238,241,244,247,250,253,256,259,262,265,268,271,274,277,280,283,286,289,292,295,298 )] \n",
    "Sim15_100_WOM_sales_sum <- colSums(Sim15_100_WOM_sales)\n",
    "Sim15_100_WOM_sales_sum_df <- data.frame(Sim15_100_WOM_sales_sum)\n",
    "colnames(Sim15_100_WOM_sales_sum_df) <- \"15%\"\n",
    "Sim15_100_WOM_sales_sum_df <- cbind(WOM_sales = rownames(Sim15_100_WOM_sales_sum_df), Sim15_100_WOM_sales_sum_df)\n",
    "rownames(Sim15_100_WOM_sales_sum_df) <- NULL\n",
    "\n",
    "Sim20_100_WOM_sales <- Sim20_100[c(1,4,7,10,13,16,19,22,25,28,31,34,37,40,43,46,49,52,55,58,61,64,67,70,73,76,79,82,85,88,91,94,\n",
    "                                   97,100,103,106,109,112,115,118,121,124,127,130,133,136,139,142,145,148,151,154,157,160,163,\n",
    "                                   166,169,172,175,178,181,184,187,190,193,196,199,202,205,208,211,214,217,220,223,226,229,232,\n",
    "                                   235,238,241,244,247,250,253,256,259,262,265,268,271,274,277,280,283,286,289,292,295,298 )] \n",
    "Sim20_100_WOM_sales_sum <- colSums(Sim20_100_WOM_sales)\n",
    "Sim20_100_WOM_sales_sum_df <- data.frame(Sim20_100_WOM_sales_sum)\n",
    "colnames(Sim20_100_WOM_sales_sum_df) <- \"20%\"\n",
    "Sim20_100_WOM_sales_sum_df <- cbind(WOM_sales = rownames(Sim20_100_WOM_sales_sum_df), Sim20_100_WOM_sales_sum_df)\n",
    "rownames(Sim20_100_WOM_sales_sum_df) <- NULL\n",
    "\n",
    "Sim30_100_WOM_sales <- Sim30_100[c(1,4,7,10,13,16,19,22,25,28,31,34,37,40,43,46,49,52,55,58,61,64,67,70,73,76,79,82,85,88,91,94,\n",
    "                                   97,100,103,106,109,112,115,118,121,124,127,130,133,136,139,142,145,148,151,154,157,160,163,\n",
    "                                   166,169,172,175,178,181,184,187,190,193,196,199,202,205,208,211,214,217,220,223,226,229,232,\n",
    "                                   235,238,241,244,247,250,253,256,259,262,265,268,271,274,277,280,283,286,289,292,295,298 )] \n",
    "Sim30_100_WOM_sales_sum <- colSums(Sim30_100_WOM_sales)\n",
    "Sim30_100_WOM_sales_sum_df <- data.frame(Sim30_100_WOM_sales_sum)\n",
    "colnames(Sim30_100_WOM_sales_sum_df) <- \"30%\"\n",
    "Sim30_100_WOM_sales_sum_df <- cbind(WOM_sales = rownames(Sim30_100_WOM_sales_sum_df), Sim30_100_WOM_sales_sum_df)\n",
    "rownames(Sim30_100_WOM_sales_sum_df) <- NULL\n",
    "\n",
    "Sim40_100_WOM_sales <- Sim40_100[c(1,4,7,10,13,16,19,22,25,28,31,34,37,40,43,46,49,52,55,58,61,64,67,70,73,76,79,82,85,88,91,94,\n",
    "                                   97,100,103,106,109,112,115,118,121,124,127,130,133,136,139,142,145,148,151,154,157,160,163,\n",
    "                                   166,169,172,175,178,181,184,187,190,193,196,199,202,205,208,211,214,217,220,223,226,229,232,\n",
    "                                   235,238,241,244,247,250,253,256,259,262,265,268,271,274,277,280,283,286,289,292,295,298 )] \n",
    "Sim40_100_WOM_sales_sum <- colSums(Sim40_100_WOM_sales)\n",
    "Sim40_100_WOM_sales_sum_df <- data.frame(Sim40_100_WOM_sales_sum)\n",
    "colnames(Sim40_100_WOM_sales_sum_df) <- \"40%\"\n",
    "Sim40_100_WOM_sales_sum_df <- cbind(WOM_sales = rownames(Sim40_100_WOM_sales_sum_df), Sim40_100_WOM_sales_sum_df)\n",
    "rownames(Sim40_100_WOM_sales_sum_df) <- NULL\n",
    "\n",
    "Sim50_100_WOM_sales <- Sim50_100[c(1,4,7,10,13,16,19,22,25,28,31,34,37,40,43,46,49,52,55,58,61,64,67,70,73,76,79,82,85,88,91,94,\n",
    "                                   97,100,103,106,109,112,115,118,121,124,127,130,133,136,139,142,145,148,151,154,157,160,163,\n",
    "                                   166,169,172,175,178,181,184,187,190,193,196,199,202,205,208,211,214,217,220,223,226,229,232,\n",
    "                                   235,238,241,244,247,250,253,256,259,262,265,268,271,274,277,280,283,286,289,292,295,298 )] \n",
    "Sim50_100_WOM_sales_sum <- colSums(Sim50_100_WOM_sales)\n",
    "Sim50_100_WOM_sales_sum_df <- data.frame(Sim50_100_WOM_sales_sum)\n",
    "colnames(Sim50_100_WOM_sales_sum_df) <- \"50%\"\n",
    "Sim50_100_WOM_sales_sum_df <- cbind(WOM_sales = rownames(Sim50_100_WOM_sales_sum_df), Sim50_100_WOM_sales_sum_df)\n",
    "rownames(Sim50_100_WOM_sales_sum_df) <- NULL"
   ]
  },
  {
   "cell_type": "markdown",
   "metadata": {},
   "source": [
    "### Uniendo data frames"
   ]
  },
  {
   "cell_type": "code",
   "execution_count": null,
   "metadata": {
    "collapsed": true
   },
   "outputs": [],
   "source": [
    "WOM_sales_100 <- Reduce(function(x, y) merge(x, y, , by = \"WOM_sales\", all = TRUE), \n",
    "    list(Sim5_100_WOM_sales_sum_df, Sim10_100_WOM_sales_sum_df, Sim15_100_WOM_sales_sum_df, Sim20_100_WOM_sales_sum_df, \n",
    "         Sim30_100_WOM_sales_sum_df, Sim40_100_WOM_sales_sum_df, Sim50_100_WOM_sales_sum_df))\n",
    "WOM_sales_100$WOM_sales <- NULL"
   ]
  },
  {
   "cell_type": "markdown",
   "metadata": {},
   "source": [
    "# Análisis de sensibilidad"
   ]
  },
  {
   "cell_type": "markdown",
   "metadata": {},
   "source": [
    "# Simulaciones"
   ]
  },
  {
   "cell_type": "markdown",
   "metadata": {},
   "source": [
    "Se pueden comparar simulaciones de 10 entre ellas o también realizar simulaciones a 10, 20, 30, 40, 50 y revisar cuando se estabilizan los datos"
   ]
  },
  {
   "cell_type": "markdown",
   "metadata": {},
   "source": [
    "## Promoters %"
   ]
  },
  {
   "cell_type": "markdown",
   "metadata": {},
   "source": [
    "De acuerdo al boxplot, un número mayor al 20% genera condiciones en el mercado irreales"
   ]
  },
  {
   "cell_type": "code",
   "execution_count": 7,
   "metadata": {
    "collapsed": false
   },
   "outputs": [
    {
     "ename": "ERROR",
     "evalue": "Error in boxplot(WOM_sales): objeto 'WOM_sales' no encontrado\n",
     "output_type": "error",
     "traceback": [
      "Error in boxplot(WOM_sales): objeto 'WOM_sales' no encontrado\nTraceback:\n",
      "1. boxplot(WOM_sales)"
     ]
    }
   ],
   "source": [
    "boxplot(WOM_sales)\n",
    "title(\"10 Simulaciones\")"
   ]
  },
  {
   "cell_type": "code",
   "execution_count": 9,
   "metadata": {
    "collapsed": false
   },
   "outputs": [
    {
     "ename": "ERROR",
     "evalue": "Error in boxplot(WOM_sales_50): objeto 'WOM_sales_50' no encontrado\n",
     "output_type": "error",
     "traceback": [
      "Error in boxplot(WOM_sales_50): objeto 'WOM_sales_50' no encontrado\nTraceback:\n",
      "1. boxplot(WOM_sales_50)"
     ]
    }
   ],
   "source": [
    "boxplot(WOM_sales_50)\n",
    "title(\"50 Simulaciones\")"
   ]
  },
  {
   "cell_type": "code",
   "execution_count": 160,
   "metadata": {
    "collapsed": false
   },
   "outputs": [
    {
     "data": {
      "image/png": "[encoded data removed]",
      "text/plain": [
       "Plot with title \"100 Simulaciones\""
      ]
     },
     "metadata": {
      "image/svg+xml": {
       "isolated": true
      }
     },
     "output_type": "display_data"
    }
   ],
   "source": [
    "boxplot(WOM_sales_100)\n",
    "title(\"100 Simulaciones\")"
   ]
  },
  {
   "cell_type": "markdown",
   "metadata": {},
   "source": [
    "## Ticks"
   ]
  }
 ],
 "metadata": {
  "anaconda-cloud": {},
  "kernelspec": {
   "display_name": "R",
   "language": "R",
   "name": "ir"
  },
  "language_info": {
   "codemirror_mode": "r",
   "file_extension": ".r",
   "mimetype": "text/x-r-source",
   "name": "R",
   "pygments_lexer": "r",
   "version": "3.3.1"
  },
  "nav_menu": {},
  "toc": {
   "navigate_menu": true,
   "number_sections": true,
   "sideBar": true,
   "threshold": 6,
   "toc_cell": false,
   "toc_section_display": "block",
   "toc_window_display": true
  },
  "toc_position": {
   "height": "688px",
   "left": "0px",
   "right": "632.2px",
   "top": "106px",
   "width": "187px"
  }
 },
 "nbformat": 4,
 "nbformat_minor": 0
}
