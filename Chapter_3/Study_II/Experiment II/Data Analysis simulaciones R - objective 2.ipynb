{
 "cells": [
  {
   "cell_type": "markdown",
   "metadata": {},
   "source": [
    "# Objetivo del análisis"
   ]
  },
  {
   "cell_type": "markdown",
   "metadata": {},
   "source": [
    "Determinar las mejores estrategias de Marketing Emprendedor con promotores que mejor activen los procesos de difusión del mercado.\n",
    "Validar estadísticamente si existe una diferencia significativa en el WOM sales cuando se aplican las estrategias."
   ]
  },
  {
   "cell_type": "markdown",
   "metadata": {},
   "source": [
    "# Descripción de los datos"
   ]
  },
  {
   "cell_type": "markdown",
   "metadata": {},
   "source": [
    "Los datos fueron tomados de las simulaciones aplicando cada una de las estrategias. Las variables son: WOM_sales, WOM_promoters y num_promoters. Los datos almacenados en las variables fueron tick a tick."
   ]
  },
  {
   "cell_type": "markdown",
   "metadata": {},
   "source": [
    "# Creación del entorno"
   ]
  },
  {
   "cell_type": "markdown",
   "metadata": {},
   "source": [
    "## Cargando paquetes"
   ]
  },
  {
   "cell_type": "code",
   "execution_count": 1,
   "metadata": {
    "collapsed": false
   },
   "outputs": [
    {
     "name": "stderr",
     "output_type": "stream",
     "text": [
      "Warning message:\n",
      ": package 'plyr' was built under R version 3.2.5Warning message:\n",
      ": package 'pgirmess' was built under R version 3.2.5"
     ]
    }
   ],
   "source": [
    "library(repr)\n",
    "library(\"plyr\", lib.loc=\"~/R/win-library/3.2\")\n",
    "library(\"pgirmess\", lib.loc=\"~/R/win-library/3.2\")"
   ]
  },
  {
   "cell_type": "code",
   "execution_count": 2,
   "metadata": {
    "collapsed": false
   },
   "outputs": [],
   "source": [
    "library(repr)\n",
    "library(\"plyr\", lib.loc=\"~/R/win-library/3.3\")\n",
    "# library(\"nparcomp\", lib.loc=\"~/R/win-library/3.3\")\n",
    "library(\"pgirmess\", lib.loc=\"~/R/win-library/3.3\")"
   ]
  },
  {
   "cell_type": "code",
   "execution_count": 3,
   "metadata": {
    "collapsed": true
   },
   "outputs": [],
   "source": [
    "library(repr)\n",
    "library(plyr)\n",
    "library(pgirmess)"
   ]
  },
  {
   "cell_type": "markdown",
   "metadata": {},
   "source": [
    "## Funciones"
   ]
  },
  {
   "cell_type": "code",
   "execution_count": 4,
   "metadata": {
    "collapsed": true
   },
   "outputs": [],
   "source": [
    "options(repr.plot.width=5, repr.plot.height=4)"
   ]
  },
  {
   "cell_type": "markdown",
   "metadata": {},
   "source": [
    "# Cargando los datos"
   ]
  },
  {
   "cell_type": "markdown",
   "metadata": {},
   "source": [
    "## Non Strategy - Simulaciones WOM sales"
   ]
  },
  {
   "cell_type": "code",
   "execution_count": 5,
   "metadata": {
    "collapsed": true
   },
   "outputs": [],
   "source": [
    "St0 <- read.csv(\"St0_Simulation15.csv\", skip = 39, sep = \",\")\n",
    "St0$X.all.run.data. <- NULL"
   ]
  },
  {
   "cell_type": "markdown",
   "metadata": {},
   "source": [
    "## Strategy 1 - Energize Promoters"
   ]
  },
  {
   "cell_type": "code",
   "execution_count": 6,
   "metadata": {
    "collapsed": false
   },
   "outputs": [],
   "source": [
    "St1 <- read.csv(\"St1_Simulation15.csv\", skip = 39, sep = \",\")\n",
    "St1$X.all.run.data. <- NULL"
   ]
  },
  {
   "cell_type": "markdown",
   "metadata": {},
   "source": [
    "## Strategy 2 - Connect Promoters"
   ]
  },
  {
   "cell_type": "code",
   "execution_count": 7,
   "metadata": {
    "collapsed": true
   },
   "outputs": [],
   "source": [
    "St2 <- read.csv(\"St2_Simulation15.csv\", skip = 39, sep = \",\")\n",
    "St2$X.all.run.data. <- NULL"
   ]
  },
  {
   "cell_type": "markdown",
   "metadata": {},
   "source": [
    "## Strategy 3 - Mix: Energize and Connect Promoters"
   ]
  },
  {
   "cell_type": "code",
   "execution_count": 8,
   "metadata": {
    "collapsed": true
   },
   "outputs": [],
   "source": [
    "St3 <- read.csv(\"St3_Simulation15.csv\", skip = 39, sep = \",\")\n",
    "St3$X.all.run.data. <- NULL"
   ]
  },
  {
   "cell_type": "markdown",
   "metadata": {},
   "source": [
    "# Limpiando datos"
   ]
  },
  {
   "cell_type": "markdown",
   "metadata": {},
   "source": [
    "## Non Strategy"
   ]
  },
  {
   "cell_type": "markdown",
   "metadata": {},
   "source": [
    "### Creando Dataframes de WOM sales"
   ]
  },
  {
   "cell_type": "code",
   "execution_count": 9,
   "metadata": {
    "collapsed": true
   },
   "outputs": [],
   "source": [
    "St0_WOM_sales <- St0[c(1, 4, 7, 10, 13, 16, 19, 22, 25, 28)]\n",
    "St0_WOM_sales_sum <- colSums(St0_WOM_sales)\n",
    "St0_WOM_sales_sum_df <- data.frame(St0_WOM_sales_sum)\n",
    "colnames(St0_WOM_sales_sum_df) <- \"15%\"\n",
    "St0_WOM_sales_sum_df <- cbind(WOM_sales = rownames(St0_WOM_sales_sum_df), St0_WOM_sales_sum_df)\n",
    "rownames(St0_WOM_sales_sum_df) <- NULL"
   ]
  },
  {
   "cell_type": "markdown",
   "metadata": {},
   "source": [
    "## Strategy 1"
   ]
  },
  {
   "cell_type": "markdown",
   "metadata": {},
   "source": [
    "### Creando Dataframes de WOM sales"
   ]
  },
  {
   "cell_type": "code",
   "execution_count": 10,
   "metadata": {
    "collapsed": false
   },
   "outputs": [],
   "source": [
    "St1_WOM_sales <- St1[c(1, 4, 7, 10, 13, 16, 19, 22, 25, 28)]\n",
    "St1_WOM_sales_sum <- colSums(St1_WOM_sales)\n",
    "St1_WOM_sales_sum_df <- data.frame(St1_WOM_sales_sum)\n",
    "colnames(St1_WOM_sales_sum_df) <- \"15%\"\n",
    "St1_WOM_sales_sum_df <- cbind(WOM_sales = rownames(St1_WOM_sales_sum_df), St1_WOM_sales_sum_df)\n",
    "rownames(St1_WOM_sales_sum_df) <- NULL"
   ]
  },
  {
   "cell_type": "markdown",
   "metadata": {},
   "source": [
    "## Strategy 2"
   ]
  },
  {
   "cell_type": "markdown",
   "metadata": {},
   "source": [
    "### Creando Dataframes de WOM sales"
   ]
  },
  {
   "cell_type": "code",
   "execution_count": 11,
   "metadata": {
    "collapsed": true
   },
   "outputs": [],
   "source": [
    "St2_WOM_sales <- St2[c(1, 4, 7, 10, 13, 16, 19, 22, 25, 28)]\n",
    "St2_WOM_sales_sum <- colSums(St2_WOM_sales)\n",
    "St2_WOM_sales_sum_df <- data.frame(St2_WOM_sales_sum)\n",
    "colnames(St2_WOM_sales_sum_df) <- \"15%\"\n",
    "St2_WOM_sales_sum_df <- cbind(WOM_sales = rownames(St2_WOM_sales_sum_df), St2_WOM_sales_sum_df)\n",
    "rownames(St2_WOM_sales_sum_df) <- NULL"
   ]
  },
  {
   "cell_type": "markdown",
   "metadata": {},
   "source": [
    "## Strategy 3"
   ]
  },
  {
   "cell_type": "markdown",
   "metadata": {},
   "source": [
    "### Creando Dataframes de WOM sales"
   ]
  },
  {
   "cell_type": "code",
   "execution_count": 12,
   "metadata": {
    "collapsed": true
   },
   "outputs": [],
   "source": [
    "St3_WOM_sales <- St3[c(1, 4, 7, 10, 13, 16, 19, 22, 25, 28)]\n",
    "St3_WOM_sales_sum <- colSums(St3_WOM_sales)\n",
    "St3_WOM_sales_sum_df <- data.frame(St3_WOM_sales_sum)\n",
    "colnames(St3_WOM_sales_sum_df) <- \"15%\"\n",
    "St3_WOM_sales_sum_df <- cbind(WOM_sales = rownames(St3_WOM_sales_sum_df), St3_WOM_sales_sum_df)\n",
    "rownames(St3_WOM_sales_sum_df) <- NULL"
   ]
  },
  {
   "cell_type": "markdown",
   "metadata": {},
   "source": [
    "# Estadística descriptiva"
   ]
  },
  {
   "cell_type": "markdown",
   "metadata": {},
   "source": [
    "## Media y desviación estandar del WOM sales para cada % de promotores"
   ]
  },
  {
   "cell_type": "markdown",
   "metadata": {},
   "source": [
    "### Strategy 0"
   ]
  },
  {
   "cell_type": "code",
   "execution_count": 13,
   "metadata": {
    "collapsed": false
   },
   "outputs": [
    {
     "data": {
      "text/html": [
       "35.5"
      ],
      "text/latex": [
       "35.5"
      ],
      "text/markdown": [
       "35.5"
      ],
      "text/plain": [
       "[1] 35.5"
      ]
     },
     "execution_count": 13,
     "metadata": {},
     "output_type": "execute_result"
    }
   ],
   "source": [
    "median(St0_WOM_sales_sum_df$\"15%\")"
   ]
  },
  {
   "cell_type": "code",
   "execution_count": 14,
   "metadata": {
    "collapsed": false
   },
   "outputs": [
    {
     "data": {
      "text/html": [
       "31.8051358536112"
      ],
      "text/latex": [
       "31.8051358536112"
      ],
      "text/markdown": [
       "31.8051358536112"
      ],
      "text/plain": [
       "[1] 31.80514"
      ]
     },
     "execution_count": 14,
     "metadata": {},
     "output_type": "execute_result"
    }
   ],
   "source": [
    "sd(St0_WOM_sales_sum_df$\"15%\")"
   ]
  },
  {
   "cell_type": "markdown",
   "metadata": {},
   "source": [
    "### Strategy 1"
   ]
  },
  {
   "cell_type": "code",
   "execution_count": 15,
   "metadata": {
    "collapsed": false
   },
   "outputs": [
    {
     "data": {
      "text/html": [
       "101"
      ],
      "text/latex": [
       "101"
      ],
      "text/markdown": [
       "101"
      ],
      "text/plain": [
       "[1] 101"
      ]
     },
     "execution_count": 15,
     "metadata": {},
     "output_type": "execute_result"
    }
   ],
   "source": [
    "median(St1_WOM_sales_sum_df$\"15%\")"
   ]
  },
  {
   "cell_type": "code",
   "execution_count": 16,
   "metadata": {
    "collapsed": false
   },
   "outputs": [
    {
     "data": {
      "text/html": [
       "56.3561097939798"
      ],
      "text/latex": [
       "56.3561097939798"
      ],
      "text/markdown": [
       "56.3561097939798"
      ],
      "text/plain": [
       "[1] 56.35611"
      ]
     },
     "execution_count": 16,
     "metadata": {},
     "output_type": "execute_result"
    }
   ],
   "source": [
    "sd(St1_WOM_sales_sum_df$\"15%\")"
   ]
  },
  {
   "cell_type": "markdown",
   "metadata": {},
   "source": [
    "### Strategy 2"
   ]
  },
  {
   "cell_type": "code",
   "execution_count": 17,
   "metadata": {
    "collapsed": false,
    "scrolled": true
   },
   "outputs": [
    {
     "data": {
      "text/html": [
       "68"
      ],
      "text/latex": [
       "68"
      ],
      "text/markdown": [
       "68"
      ],
      "text/plain": [
       "[1] 68"
      ]
     },
     "execution_count": 17,
     "metadata": {},
     "output_type": "execute_result"
    }
   ],
   "source": [
    "median(St2_WOM_sales_sum_df$\"15%\")"
   ]
  },
  {
   "cell_type": "code",
   "execution_count": 18,
   "metadata": {
    "collapsed": false
   },
   "outputs": [
    {
     "data": {
      "text/html": [
       "45.8189674455654"
      ],
      "text/latex": [
       "45.8189674455654"
      ],
      "text/markdown": [
       "45.8189674455654"
      ],
      "text/plain": [
       "[1] 45.81897"
      ]
     },
     "execution_count": 18,
     "metadata": {},
     "output_type": "execute_result"
    }
   ],
   "source": [
    "sd(St2_WOM_sales_sum_df$\"15%\")"
   ]
  },
  {
   "cell_type": "markdown",
   "metadata": {},
   "source": [
    "### Strategy 3"
   ]
  },
  {
   "cell_type": "code",
   "execution_count": 19,
   "metadata": {
    "collapsed": false
   },
   "outputs": [
    {
     "data": {
      "text/html": [
       "172"
      ],
      "text/latex": [
       "172"
      ],
      "text/markdown": [
       "172"
      ],
      "text/plain": [
       "[1] 172"
      ]
     },
     "execution_count": 19,
     "metadata": {},
     "output_type": "execute_result"
    }
   ],
   "source": [
    "median(St3_WOM_sales_sum_df$\"15%\")"
   ]
  },
  {
   "cell_type": "code",
   "execution_count": 20,
   "metadata": {
    "collapsed": false
   },
   "outputs": [
    {
     "data": {
      "text/html": [
       "123.354277500935"
      ],
      "text/latex": [
       "123.354277500935"
      ],
      "text/markdown": [
       "123.354277500935"
      ],
      "text/plain": [
       "[1] 123.3543"
      ]
     },
     "execution_count": 20,
     "metadata": {},
     "output_type": "execute_result"
    }
   ],
   "source": [
    "sd(St3_WOM_sales_sum_df$\"15%\")"
   ]
  },
  {
   "cell_type": "markdown",
   "metadata": {},
   "source": [
    "## Box Plot - Compare Strategies"
   ]
  },
  {
   "cell_type": "code",
   "execution_count": 21,
   "metadata": {
    "collapsed": false
   },
   "outputs": [],
   "source": [
    "WOM_sales_all <- data.frame(cbind(St0_WOM_sales_sum_df$\"15%\", St1_WOM_sales_sum_df$\"15%\", St2_WOM_sales_sum_df$\"15%\", St3_WOM_sales_sum_df$\"15%\"))\n",
    "colnames(WOM_sales_all) <- c(\"St0\", \"St1\", \"St2\", \"St3\")"
   ]
  },
  {
   "cell_type": "code",
   "execution_count": 22,
   "metadata": {
    "collapsed": false,
    "scrolled": false
   },
   "outputs": [
    {
     "data": {
      "application/pdf": "[encoded data removed]",
      "image/jpeg": "[encoded data removed]",
      "image/png": "[encoded data removed]",
      "text/plain": [
       "plot without title"
      ]
     },
     "metadata": {
      "image/svg+xml": {
       "isolated": true
      }
     },
     "output_type": "display_data"
    }
   ],
   "source": [
    "boxplot(WOM_sales_all, xlab=\"Estrategias\", ylab=\"WOM sales\")"
   ]
  },
  {
   "cell_type": "code",
   "execution_count": 52,
   "metadata": {
    "collapsed": false
   },
   "outputs": [
    {
     "data": {
      "text/html": [
       "<strong>pdf:</strong> 2"
      ],
      "text/latex": [
       "\\textbf{pdf:} 2"
      ],
      "text/markdown": [
       "**pdf:** 2"
      ],
      "text/plain": [
       "pdf \n",
       "  2 "
      ]
     },
     "metadata": {},
     "output_type": "display_data"
    }
   ],
   "source": [
    "setEPS()\n",
    "postscript(\"Estrategias_Vs_WoM.eps\")\n",
    "boxplot(WOM_sales_all, xlab=\"Estrategias\", ylab=\"WOM sales\")\n",
    "dev.off()"
   ]
  },
  {
   "cell_type": "markdown",
   "metadata": {},
   "source": [
    "# Estadística Inferencial"
   ]
  },
  {
   "cell_type": "markdown",
   "metadata": {
    "collapsed": true
   },
   "source": [
    "## Prueba de Normalidad"
   ]
  },
  {
   "cell_type": "markdown",
   "metadata": {},
   "source": [
    "Para determinar si los datos siguen una distribución normal, se aplicó la prueba de Shapiro-Wilk (muestras pequeñas)"
   ]
  },
  {
   "cell_type": "code",
   "execution_count": 35,
   "metadata": {
    "collapsed": false,
    "scrolled": false
   },
   "outputs": [
    {
     "data": {
      "text/plain": [
       "\n",
       "\tShapiro-Wilk normality test\n",
       "\n",
       "data:  St0_WOM_sales_sum_df$\"15%\"\n",
       "W = 0.84531, p-value = 0.05108\n"
      ]
     },
     "metadata": {},
     "output_type": "display_data"
    },
    {
     "data": {
      "text/plain": [
       "\n",
       "\tShapiro-Wilk normality test\n",
       "\n",
       "data:  St1_WOM_sales_sum_df$\"15%\"\n",
       "W = 0.97446, p-value = 0.9288\n"
      ]
     },
     "metadata": {},
     "output_type": "display_data"
    },
    {
     "data": {
      "text/plain": [
       "\n",
       "\tShapiro-Wilk normality test\n",
       "\n",
       "data:  St2_WOM_sales_sum_df$\"15%\"\n",
       "W = 0.8954, p-value = 0.1949\n"
      ]
     },
     "metadata": {},
     "output_type": "display_data"
    },
    {
     "data": {
      "text/plain": [
       "\n",
       "\tShapiro-Wilk normality test\n",
       "\n",
       "data:  St3_WOM_sales_sum_df$\"15%\"\n",
       "W = 0.96508, p-value = 0.8418\n"
      ]
     },
     "metadata": {},
     "output_type": "display_data"
    }
   ],
   "source": [
    "shapiro.test(St0_WOM_sales_sum_df$\"15%\")\n",
    "shapiro.test(St1_WOM_sales_sum_df$\"15%\")\n",
    "shapiro.test(St2_WOM_sales_sum_df$\"15%\")\n",
    "shapiro.test(St3_WOM_sales_sum_df$\"15%\")"
   ]
  },
  {
   "cell_type": "markdown",
   "metadata": {},
   "source": [
    "## Comparación de Medianas - Kruskal Wallis"
   ]
  },
  {
   "cell_type": "markdown",
   "metadata": {},
   "source": [
    "Se realizó la comparación de medianas entre las diferentes estrategias, aplicando la prueba de Kruskal-Wallis (Datos no paramétricos). Los resultados muestran que, con un p-valor menor a 0.001, se puede afirmar que hay diferencias significativas entre los grupos."
   ]
  },
  {
   "cell_type": "code",
   "execution_count": 48,
   "metadata": {
    "collapsed": true
   },
   "outputs": [],
   "source": [
    "WOM_sales_St0 <- data.frame(St0_WOM_sales_sum_df$\"15%\" , colnames = \"St0\") \n",
    "colnames(WOM_sales_St0) <- c(\"WOM_sales\", \"nrpromoters\")\n",
    "\n",
    "WOM_sales_St1 <- data.frame(St1_WOM_sales_sum_df$\"15%\" , colnames = \"St1\") \n",
    "colnames(WOM_sales_St1) <- c(\"WOM_sales\", \"nrpromoters\")\n",
    "\n",
    "WOM_sales_St2 <- data.frame(St2_WOM_sales_sum_df$\"15%\" , colnames = \"St2\") \n",
    "colnames(WOM_sales_St2) <- c(\"WOM_sales\", \"nrpromoters\")\n",
    "\n",
    "WOM_sales_St3 <- data.frame(St3_WOM_sales_sum_df$\"15%\" , colnames = \"St3\") \n",
    "colnames(WOM_sales_St3) <- c(\"WOM_sales\", \"nrpromoters\")\n",
    "\n",
    "WOM_sales_all_Sts <- Reduce(function(x, y) merge(x, y, all = TRUE), \n",
    "    list(WOM_sales_St0, WOM_sales_St1, WOM_sales_St2, WOM_sales_St3))"
   ]
  },
  {
   "cell_type": "code",
   "execution_count": 49,
   "metadata": {
    "collapsed": false
   },
   "outputs": [
    {
     "data": {
      "text/plain": [
       "\n",
       "\tKruskal-Wallis rank sum test\n",
       "\n",
       "data:  WOM_sales by nrpromoters\n",
       "Kruskal-Wallis chi-squared = 14.738, df = 3, p-value = 0.002055\n"
      ]
     },
     "execution_count": 49,
     "metadata": {},
     "output_type": "execute_result"
    }
   ],
   "source": [
    "kruskal.test(WOM_sales~nrpromoters, data = WOM_sales_all_Sts)"
   ]
  },
  {
   "cell_type": "markdown",
   "metadata": {},
   "source": [
    "## Comparaciones Múltiples en Modelos no Paramétricos"
   ]
  },
  {
   "cell_type": "code",
   "execution_count": 38,
   "metadata": {
    "collapsed": false
   },
   "outputs": [
    {
     "ename": "ERROR",
     "evalue": "Error in vapply(seq_along(mapped), function(i) {: Los valores deben ser de longitud 1, \npero el resultado FUN(X [[3]]) es la longitud 0 \n",
     "output_type": "error",
     "traceback": [
      "Error in vapply(seq_along(mapped), function(i) {: Los valores deben ser de longitud 1, \npero el resultado FUN(X [[3]]) es la longitud 0 \nTraceback:\n",
      "1. tryCatch({\n .     for (mime in getOption(\"jupyter.display_mimetypes\")) {\n .         r <- mime2repr[[mime]](obj)\n .         if (!is.null(r)) \n .             data[[mime]] <- r\n .     }\n . }, error = handle_error)"
     ]
    },
    {
     "data": {
      "text/html": [
       "<dl>\n",
       "\t<dt>$statistic</dt>\n",
       "\t\t<dd>\"Multiple comparison test after Kruskal-Wallis\"</dd>\n",
       "\t<dt>$signif.level</dt>\n",
       "\t\t<dd>0.05</dd>\n",
       "\t<dt>$dif.com</dt>\n",
       "\t\t<dd><table>\n",
       "<thead><tr><th></th><th scope=col>obs.dif</th><th scope=col>critical.dif</th><th scope=col>difference</th></tr></thead>\n",
       "<tbody>\n",
       "\t<tr><th scope=row>St0-St1</th><td>11.40000</td><td>13.79315</td><td> 0.00000</td></tr>\n",
       "\t<tr><th scope=row>St0-St2</th><td> 4.90000</td><td>13.79315</td><td> 0.00000</td></tr>\n",
       "\t<tr><th scope=row>St0-St3</th><td>18.90000</td><td>13.79315</td><td> 1.00000</td></tr>\n",
       "\t<tr><th scope=row>St1-St2</th><td> 6.50000</td><td>13.79315</td><td> 0.00000</td></tr>\n",
       "\t<tr><th scope=row>St1-St3</th><td> 7.50000</td><td>13.79315</td><td> 0.00000</td></tr>\n",
       "\t<tr><th scope=row>St2-St3</th><td>14.00000</td><td>13.79315</td><td> 1.00000</td></tr>\n",
       "</tbody>\n",
       "</table>\n",
       "</dd>\n",
       "</dl>\n"
      ],
      "text/plain": [
       "Multiple comparison test after Kruskal-Wallis \n",
       "p.value: 0.05 \n",
       "Comparisons\n",
       "        obs.dif critical.dif difference\n",
       "St0-St1    11.4     13.79315      FALSE\n",
       "St0-St2     4.9     13.79315      FALSE\n",
       "St0-St3    18.9     13.79315       TRUE\n",
       "St1-St2     6.5     13.79315      FALSE\n",
       "St1-St3     7.5     13.79315      FALSE\n",
       "St2-St3    14.0     13.79315       TRUE"
      ]
     },
     "metadata": {},
     "output_type": "display_data"
    }
   ],
   "source": [
    "kruskalmc(WOM_sales~nrpromoters, data = WOM_sales_all_Sts)"
   ]
  },
  {
   "cell_type": "markdown",
   "metadata": {},
   "source": [
    "# Test"
   ]
  },
  {
   "cell_type": "markdown",
   "metadata": {},
   "source": [
    "ANOVA"
   ]
  },
  {
   "cell_type": "code",
   "execution_count": 41,
   "metadata": {
    "collapsed": false
   },
   "outputs": [],
   "source": [
    "anova <- aov(WOM_sales~nrpromoters, data = WOM_sales_all_Sts)"
   ]
  },
  {
   "cell_type": "code",
   "execution_count": 43,
   "metadata": {
    "collapsed": false,
    "scrolled": true
   },
   "outputs": [
    {
     "data": {
      "text/plain": [
       "            Df Sum Sq Mean Sq F value   Pr(>F)    \n",
       "nrpromoters  3 120051   40017   7.444 0.000531 ***\n",
       "Residuals   36 193529    5376                     \n",
       "---\n",
       "Signif. codes:  0 '***' 0.001 '**' 0.01 '*' 0.05 '.' 0.1 ' ' 1"
      ]
     },
     "metadata": {},
     "output_type": "display_data"
    }
   ],
   "source": [
    "summary(anova)"
   ]
  },
  {
   "cell_type": "code",
   "execution_count": 49,
   "metadata": {
    "collapsed": false,
    "scrolled": true
   },
   "outputs": [
    {
     "data": {
      "text/html": [
       "<ol class=list-inline>\n",
       "\t<li>0.000530948489109542</li>\n",
       "\t<li>NA</li>\n",
       "</ol>\n"
      ],
      "text/latex": [
       "\\begin{enumerate*}\n",
       "\\item 0.000530948489109542\n",
       "\\item NA\n",
       "\\end{enumerate*}\n"
      ],
      "text/markdown": [
       "1. 0.000530948489109542\n",
       "2. NA\n",
       "\n",
       "\n"
      ],
      "text/plain": [
       "[1] 0.0005309485           NA"
      ]
     },
     "metadata": {},
     "output_type": "display_data"
    }
   ],
   "source": [
    "summary(anova)[[1]][[\"Pr(>F)\"]]"
   ]
  },
  {
   "cell_type": "code",
   "execution_count": 50,
   "metadata": {
    "collapsed": false,
    "scrolled": true
   },
   "outputs": [
    {
     "data": {
      "text/plain": [
       "  Tukey multiple comparisons of means\n",
       "    95% family-wise confidence level\n",
       "\n",
       "Fit: aov(formula = WOM_sales ~ nrpromoters, data = WOM_sales_all_Sts)\n",
       "\n",
       "$nrpromoters\n",
       "         diff         lwr    upr     p adj\n",
       "St1-St0  59.0  -29.309997 147.31 0.2902777\n",
       "St2-St0  24.7  -63.609997 113.01 0.8746604\n",
       "St3-St0 144.8   56.490003 233.11 0.0004918\n",
       "St2-St1 -34.3 -122.609997  54.01 0.7237895\n",
       "St3-St1  85.8   -2.509997 174.11 0.0594800\n",
       "St3-St2 120.1   31.790003 208.41 0.0042399\n"
      ]
     },
     "metadata": {},
     "output_type": "display_data"
    }
   ],
   "source": [
    "TukeyHSD(anova)"
   ]
  },
  {
   "cell_type": "code",
   "execution_count": null,
   "metadata": {
    "collapsed": true
   },
   "outputs": [],
   "source": []
  },
  {
   "cell_type": "markdown",
   "metadata": {},
   "source": [
    "LEVENE"
   ]
  },
  {
   "cell_type": "code",
   "execution_count": 41,
   "metadata": {
    "collapsed": false
   },
   "outputs": [
    {
     "ename": "ERROR",
     "evalue": "Error: This is R 3.1.3, package 'Rcmdr' needs >= 3.2.0\n",
     "output_type": "error",
     "traceback": [
      "Error: This is R 3.1.3, package 'Rcmdr' needs >= 3.2.0\n"
     ]
    }
   ],
   "source": [
    "library(\"Rcmdr\", lib.loc=\"~/R/R-3.3.1/library\")"
   ]
  },
  {
   "cell_type": "code",
   "execution_count": 43,
   "metadata": {
    "collapsed": false
   },
   "outputs": [
    {
     "data": {
      "text/plain": [
       "               _                           \n",
       "platform       x86_64-w64-mingw32          \n",
       "arch           x86_64                      \n",
       "os             mingw32                     \n",
       "system         x86_64, mingw32             \n",
       "status                                     \n",
       "major          3                           \n",
       "minor          1.3                         \n",
       "year           2015                        \n",
       "month          03                          \n",
       "day            09                          \n",
       "svn rev        67962                       \n",
       "language       R                           \n",
       "version.string R version 3.1.3 (2015-03-09)\n",
       "nickname       Smooth Sidewalk             "
      ]
     },
     "execution_count": 43,
     "metadata": {},
     "output_type": "execute_result"
    }
   ],
   "source": [
    "version"
   ]
  },
  {
   "cell_type": "code",
   "execution_count": 36,
   "metadata": {
    "collapsed": false
   },
   "outputs": [
    {
     "ename": "ERROR",
     "evalue": "Error in library(\"Rcmdr\", lib.loc = \"~/R/win-library/3.2\"): there is no package called 'Rcmdr'\n",
     "output_type": "error",
     "traceback": [
      "Error in library(\"Rcmdr\", lib.loc = \"~/R/win-library/3.2\"): there is no package called 'Rcmdr'\n"
     ]
    }
   ],
   "source": [
    "library(\"Rcmdr\", lib.loc=\"~/R/win-library/3.2\")"
   ]
  },
  {
   "cell_type": "code",
   "execution_count": 38,
   "metadata": {
    "collapsed": false
   },
   "outputs": [
    {
     "ename": "ERROR",
     "evalue": "Error in library(\"Rcmdr\", lib.loc = \"~/R/R-3.2.0/library\"): no library trees found in 'lib.loc'\n",
     "output_type": "error",
     "traceback": [
      "Error in library(\"Rcmdr\", lib.loc = \"~/R/R-3.2.0/library\"): no library trees found in 'lib.loc'\n"
     ]
    }
   ],
   "source": [
    "library(\"Rcmdr\", lib.loc=\"~/R/R-3.2.0/library\")"
   ]
  },
  {
   "cell_type": "code",
   "execution_count": 34,
   "metadata": {
    "collapsed": false
   },
   "outputs": [
    {
     "ename": "ERROR",
     "evalue": "Error in eval(expr, envir, enclos): no se pudo encontrar la función \"levene.test\"\n",
     "output_type": "error",
     "traceback": [
      "Error in eval(expr, envir, enclos): no se pudo encontrar la función \"levene.test\"\n"
     ]
    }
   ],
   "source": [
    "levene.test(WOM_sales~nrpromoters, data = WOM_sales_all_Sts)"
   ]
  },
  {
   "cell_type": "code",
   "execution_count": 45,
   "metadata": {
    "collapsed": false
   },
   "outputs": [
    {
     "ename": "ERROR",
     "evalue": "Error in is.data.frame(x): objeto 'WOM_sales_all_Sts' no encontrado\n",
     "output_type": "error",
     "traceback": [
      "Error in is.data.frame(x): objeto 'WOM_sales_all_Sts' no encontrado\n"
     ]
    }
   ],
   "source": [
    "write.csv(WOM_sales_all_Sts, \"WOM_sales.csv\")"
   ]
  },
  {
   "cell_type": "code",
   "execution_count": 52,
   "metadata": {
    "collapsed": false
   },
   "outputs": [],
   "source": [
    "write.csv(WOM_sales_all_Sts, \"WOM_sales_all_Sts.csv\")"
   ]
  }
 ],
 "metadata": {
  "anaconda-cloud": {},
  "kernelspec": {
   "display_name": "R",
   "language": "R",
   "name": "ir"
  },
  "language_info": {
   "codemirror_mode": "r",
   "file_extension": ".r",
   "mimetype": "text/x-r-source",
   "name": "R",
   "pygments_lexer": "r",
   "version": "3.3.1"
  },
  "nav_menu": {},
  "toc": {
   "navigate_menu": true,
   "number_sections": true,
   "sideBar": true,
   "threshold": 6,
   "toc_cell": false,
   "toc_section_display": "block",
   "toc_window_display": true
  },
  "toc_position": {
   "height": "688px",
   "left": "0px",
   "right": "1368px",
   "top": "106px",
   "width": "232px"
  }
 },
 "nbformat": 4,
 "nbformat_minor": 0
}
